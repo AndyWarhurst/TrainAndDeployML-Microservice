{
 "cells": [
  {
   "cell_type": "markdown",
   "metadata": {},
   "source": [
    "# Training and Deploying ML as a Microservice"
   ]
  },
  {
   "cell_type": "markdown",
   "metadata": {},
   "source": [
    "## The Brief\n",
    "\n",
    "In this liveProject, you will be filling the role of a developer tasked with designing, building, and implementing a machine learning solution for your company’s e-commerce website.\n",
    "\n",
    "Your company sells a variety of products directly on their own website and via partner websites, which retrieve real-time listings of every product you provide. Customers provide reviews of each product, and their reviews are used to produce ratings of the product.\n",
    "\n",
    "Until now, the process of turning reviews into ratings has been manual: contractors read through each review, determine how positive or negative each is, and assign a score. The scores from each review are then used to calculate an overall rating for the product.\n",
    "\n",
    "Your mission is to automate this process, dramatically increasing the speed of rating calculations and decreasing the cost to your company. You will:\n",
    "\n",
    "* Train a machine learning model to score product reviews, recognizing how positive or negative they are.\n",
    "* Expose this model as an API, so that your website and partner companies can display or otherwise utilize automatic product rankings.\n",
    "* Build a small sample webpage to demonstrate this functionality to the executive committee.\n"
   ]
  },
  {
   "cell_type": "markdown",
   "metadata": {},
   "source": [
    "## Project outline\n",
    "\n",
    "The project is broken into five working milestones: exploring existing ML services, training a model, deploying it as a FaaS and then again as a container service, and integrating it into a sample webpage. While you’ll rarely do all of these in the process of deploying a single model, following all these steps the first time will give you a broad understanding of the options available so you can choose the most effective route in future projects.\n",
    "\n",
    "As each milestone emphasizes different skills, the deliverables for each will vary.\n",
    "\n",
    "1. Existing Machine Learning Services\n",
    "    * A summary of three NLP services that could be used to complete the project’s overall objectives, describing the cost, efficacy, and implementation requirements for each.\n",
    "2. Training your own ML Model\n",
    "    * A trained model capable of predicting sentiment for a set of provided sample inputs.\n",
    "3. Deploying as a FaaS\n",
    "    * A callable API endpoint, on a FaaS of your choosing, which runs your model and returns a prediction.\n",
    "4. Deploying as a Container Service\n",
    "    * A callable API endpoint, on a container service of your choosing, which runs your model and returns a prediction.\n",
    "5. Integrating your Microservice\n",
    "    * A mini-website that demonstrates your model in action.\n",
    "\n"
   ]
  },
  {
   "cell_type": "markdown",
   "metadata": {},
   "source": [
    "## Techniques employed\n",
    "\n",
    "This project will make lightweight use of a variety of skills, services, and programming languages. It will give you broad experience on the entire end-to-end process of conceiving, creating, hosting, and demonstrating the value of a machine learning model—but does not aim to go into great depth on any one of these topics. Instead, it will provide you with an understanding of how all parts of machine learning tie together, and the confidence to delve deeper into any of these subjects on your own. By the end of this project, you will know how to:\n",
    "\n",
    "* Determine the applicable tools and frameworks for your machine learning projects.\n",
    "* Compare the capabilities of off-the-shelf solutions with those of a self-trained model.\n",
    "* Train and evaluate your own Sentiment Analysis model in Python using NLTK.\n",
    "* Host your model as a callable API endpoint using Algorithmia, Amazon, Azure, or Google.\n",
    "* Write a simple HTML and JavaScript site to connect to your model’s API.\n",
    "\n"
   ]
  },
  {
   "cell_type": "markdown",
   "metadata": {},
   "source": [
    "## Python libraries\n",
    "\n",
    "This project uses Python3.7, the most recent stable version of Python3. The following Python libraries will be utilized in this project:\n",
    "\n",
    "* NLTK\n",
    "* Sklearn\n",
    "* Matplotlib\n",
    "* NumPy\n",
    "* Flask\n",
    "\n"
   ]
  },
  {
   "cell_type": "code",
   "execution_count": null,
   "metadata": {},
   "outputs": [],
   "source": []
  }
 ],
 "metadata": {
  "kernelspec": {
   "display_name": "Python 3",
   "language": "python",
   "name": "python3"
  },
  "language_info": {
   "codemirror_mode": {
    "name": "ipython",
    "version": 3
   },
   "file_extension": ".py",
   "mimetype": "text/x-python",
   "name": "python",
   "nbconvert_exporter": "python",
   "pygments_lexer": "ipython3",
   "version": "3.7.6"
  }
 },
 "nbformat": 4,
 "nbformat_minor": 4
}
